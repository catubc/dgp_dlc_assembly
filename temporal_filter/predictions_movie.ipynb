{
 "cells": [
  {
   "cell_type": "code",
   "execution_count": 1,
   "metadata": {},
   "outputs": [
    {
     "data": {
      "application/javascript": [
       "IPython.notebook.set_autosave_interval(180000)"
      ]
     },
     "metadata": {},
     "output_type": "display_data"
    },
    {
     "name": "stdout",
     "output_type": "stream",
     "text": [
      "Autosaving every 180 seconds\n"
     ]
    },
    {
     "data": {
      "text/html": [
       "<style>.container { width:100% !important; }</style>"
      ],
      "text/plain": [
       "<IPython.core.display.HTML object>"
      ]
     },
     "metadata": {},
     "output_type": "display_data"
    }
   ],
   "source": [
    "import matplotlib\n",
    "#matplotlib.use('Agg')\n",
    "%matplotlib tk\n",
    "%autosave 180\n",
    "import matplotlib.pyplot as plt\n",
    "from IPython.core.display import display, HTML\n",
    "display(HTML(\"<style>.container { width:100% !important; }</style>\"))\n",
    "import numpy as np\n"
   ]
  },
  {
   "cell_type": "code",
   "execution_count": 23,
   "metadata": {},
   "outputs": [
    {
     "name": "stdout",
     "output_type": "stream",
     "text": [
      "(1000, 128, 160, 14)\n"
     ]
    }
   ],
   "source": [
    "predictions = np.load('/media/cat/4TBSSD/DLC_full_directory/videos_to_label/predictions.npy')\n",
    "print (predictions.shape)\n",
    "plt.imshow(predictions[0].sum(2))\n",
    "plt.show()"
   ]
  },
  {
   "cell_type": "code",
   "execution_count": null,
   "metadata": {},
   "outputs": [],
   "source": [
    "\n",
    "a = np.arange(50, step=2).reshape((5,5))\n",
    "\n",
    "result = gaussian_filter(ascent, sigma=5)"
   ]
  },
  {
   "cell_type": "code",
   "execution_count": 56,
   "metadata": {
    "scrolled": true
   },
   "outputs": [
    {
     "name": "stdout",
     "output_type": "stream",
     "text": [
      "(128, 160, 14)\n",
      "(128, 160, 14)\n",
      "(128, 160, 14)\n",
      "(128, 160, 14)\n",
      "(128, 160, 14)\n",
      "(128, 160, 14)\n",
      "(128, 160, 14)\n",
      "(128, 160, 14)\n",
      "(128, 160, 14)\n",
      "(128, 160, 14)\n",
      "(128, 160, 14)\n",
      "(128, 160, 14)\n",
      "(128, 160, 14)\n",
      "(128, 160, 14)\n",
      "(128, 160, 14)\n",
      "(128, 160, 14)\n",
      "(128, 160, 14)\n",
      "(128, 160, 14)\n",
      "(128, 160, 14)\n",
      "(128, 160, 14)\n",
      "(128, 160, 14)\n",
      "(128, 160, 14)\n",
      "(128, 160, 14)\n",
      "(128, 160, 14)\n",
      "(128, 160, 14)\n",
      "(128, 160, 14)\n",
      "(128, 160, 14)\n",
      "(128, 160, 14)\n",
      "(128, 160, 14)\n",
      "(128, 160, 14)\n",
      "(128, 160, 14)\n",
      "(128, 160, 14)\n",
      "(128, 160, 14)\n",
      "(128, 160, 14)\n",
      "(128, 160, 14)\n",
      "(128, 160, 14)\n",
      "(128, 160, 14)\n",
      "(128, 160, 14)\n",
      "(128, 160, 14)\n",
      "(128, 160, 14)\n",
      "(128, 160, 14)\n",
      "(128, 160, 14)\n",
      "(128, 160, 14)\n",
      "(128, 160, 14)\n",
      "(128, 160, 14)\n",
      "(128, 160, 14)\n",
      "(128, 160, 14)\n",
      "(128, 160, 14)\n",
      "(128, 160, 14)\n",
      "(128, 160, 14)\n",
      "(128, 160, 14)\n",
      "(128, 160, 14)\n",
      "(128, 160, 14)\n",
      "(128, 160, 14)\n",
      "(128, 160, 14)\n",
      "(128, 160, 14)\n",
      "(128, 160, 14)\n",
      "(128, 160, 14)\n",
      "(128, 160, 14)\n",
      "(128, 160, 14)\n",
      "(128, 160, 14)\n",
      "(128, 160, 14)\n",
      "(128, 160, 14)\n",
      "(128, 160, 14)\n",
      "(128, 160, 14)\n",
      "(128, 160, 14)\n",
      "(128, 160, 14)\n",
      "(128, 160, 14)\n",
      "(128, 160, 14)\n",
      "(128, 160, 14)\n",
      "(128, 160, 14)\n",
      "(128, 160, 14)\n",
      "(128, 160, 14)\n",
      "(128, 160, 14)\n",
      "(128, 160, 14)\n",
      "(128, 160, 14)\n",
      "(128, 160, 14)\n",
      "(128, 160, 14)\n",
      "(128, 160, 14)\n",
      "(128, 160, 14)\n",
      "(128, 160, 14)\n",
      "(128, 160, 14)\n",
      "(128, 160, 14)\n",
      "(128, 160, 14)\n",
      "(128, 160, 14)\n",
      "(128, 160, 14)\n",
      "(128, 160, 14)\n",
      "(128, 160, 14)\n",
      "(128, 160, 14)\n",
      "(128, 160, 14)\n",
      "(128, 160, 14)\n",
      "(128, 160, 14)\n",
      "(128, 160, 14)\n",
      "(128, 160, 14)\n",
      "(128, 160, 14)\n",
      "(128, 160, 14)\n",
      "(128, 160, 14)\n",
      "(128, 160, 14)\n",
      "(128, 160, 14)\n",
      "(128, 160, 14)\n"
     ]
    }
   ],
   "source": [
    "from matplotlib import pyplot as plt\n",
    "from celluloid import Camera\n",
    "import scipy\n",
    "from scipy.ndimage import gaussian_filter\n",
    "\n",
    "n_frames = 100\n",
    "threshold=0.1\n",
    "x1, x2 = 80,800\n",
    "y1, y2 = 120, 1200\n",
    "\n",
    "fig = plt.figure()\n",
    "camera = Camera(fig)\n",
    "for n in range(n_frames):\n",
    "    pred_s = predictions[n]\n",
    "    print (pred_s.shape)\n",
    "    sums = np.zeros((pred_s.shape[0],pred_s.shape[1]),'float32')\n",
    "\n",
    "    sums = np.zeros((90,135),'float32')\n",
    "    for k in range(14):\n",
    "        temp= pred_s[:,:,k][x1//8:x2//8, y1//8:y2//8]\n",
    "        temp = (temp -np.min(temp))/ (np.max(temp)-np.min(temp))\n",
    "\n",
    "        temp = temp**2\n",
    "        idx = np.where(temp<threshold)\n",
    "        temp[idx]=0\n",
    "        \n",
    "        temp = gaussian_filter(temp, sigma=2)\n",
    "        idx = np.where(temp<threshold)\n",
    "        temp[idx]=0\n",
    "        temp = gaussian_filter(temp, sigma=2)\n",
    "        \n",
    "        sums+=temp\n",
    "    #surfaces[n]= sums  \n",
    "    \n",
    "    \n",
    "    \n",
    "    \n",
    "    plt.imshow(sums)\n",
    "    camera.snap()\n",
    "animation = camera.animate()\n",
    "animation.save('/home/cat/surfaces2.mp4',fps=30)"
   ]
  },
  {
   "cell_type": "code",
   "execution_count": 24,
   "metadata": {},
   "outputs": [],
   "source": [
    "surfaces = np.load('/home/cat/Downloads/surfaces.npy')\n",
    "plt.imshow(surfaces[0])\n",
    "plt.show()"
   ]
  },
  {
   "cell_type": "code",
   "execution_count": 25,
   "metadata": {},
   "outputs": [],
   "source": [
    "from matplotlib import pyplot as plt\n",
    "from celluloid import Camera\n",
    "\n",
    "fig = plt.figure()\n",
    "camera = Camera(fig)\n",
    "for i in range(100):\n",
    "    \n",
    "    plt.imshow(surfaces[i])\n",
    "    camera.snap()\n",
    "animation = camera.animate()\n",
    "animation.save('/home/cat/surfaces.mp4',fps=30)"
   ]
  },
  {
   "cell_type": "code",
   "execution_count": null,
   "metadata": {},
   "outputs": [],
   "source": []
  }
 ],
 "metadata": {
  "kernelspec": {
   "display_name": "Python 3",
   "language": "python",
   "name": "python3"
  },
  "language_info": {
   "codemirror_mode": {
    "name": "ipython",
    "version": 3
   },
   "file_extension": ".py",
   "mimetype": "text/x-python",
   "name": "python",
   "nbconvert_exporter": "python",
   "pygments_lexer": "ipython3",
   "version": "3.9.0"
  }
 },
 "nbformat": 4,
 "nbformat_minor": 4
}
